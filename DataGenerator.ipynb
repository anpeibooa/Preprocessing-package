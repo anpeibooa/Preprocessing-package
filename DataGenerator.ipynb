{
 "cells": [
  {
   "cell_type": "code",
   "execution_count": 1,
   "metadata": {},
   "outputs": [],
   "source": [
    "import warnings\n",
    "warnings.filterwarnings(\"ignore\")\n",
    "import glob\n",
    "import numpy as np\n",
    "import math\n",
    "import matplotlib.pyplot as plt\n",
    "import pandas as pd\n",
    "from pandas import DataFrame as df\n",
    "from cutfunctionpy import cut\n",
    "from Qfunctionpy2 import JustQuench\n",
    "from Qfunctionpy import Quench"
   ]
  },
  {
   "cell_type": "code",
   "execution_count": 2,
   "metadata": {},
   "outputs": [
    {
     "name": "stdout",
     "output_type": "stream",
     "text": [
      "(108293, 25)\n"
     ]
    }
   ],
   "source": [
    "# Load EM ICC\n",
    "\n",
    "\n",
    "fnames03 = glob.glob('D:/marley deep studies/geant/par10/withtime/naive_marley_output*.txt')\n",
    "arrays03 = [np.loadtxt(f03, skiprows=0) for f03 in fnames03]\n",
    "partxt0 = np.concatenate(arrays03)\n",
    "\n",
    "#Load NaCC EM\n",
    "fnames04 = glob.glob('D:/marley deep studies/geant/NaCCFujita/withtime/naive_marley_output*.txt')\n",
    "arrays04 = [np.loadtxt(f04, skiprows=0) for f04 in fnames04]\n",
    "fujitatxt0 = np.concatenate(arrays04)\n",
    "\n",
    "#Load NaCC withMg23 EM\n",
    "fnames05 = glob.glob('D:/marley deep studies/geant/NaCCFujita/with23Mg/withtime/naive_marley_output*.txt')\n",
    "arrays05 = [np.loadtxt(f05, skiprows=0) for f05 in fnames05]\n",
    "fujita2txt0 = np.concatenate(arrays05)\n",
    "\n",
    "\n",
    "\n",
    "\n",
    "\n",
    "#Load muon,L=150m\n",
    "fnames = glob.glob('/Users/Peibo An/150run1withtime/naive_cry_output*.txt')\n",
    "arrays = [np.loadtxt(f, skiprows=0) for f in fnames]\n",
    "final_array = np.concatenate(arrays)\n",
    "print (final_array.shape)"
   ]
  },
  {
   "cell_type": "code",
   "execution_count": 3,
   "metadata": {},
   "outputs": [],
   "source": [
    "#load Icc Na recoils\n",
    "fnames01 = glob.glob('D:/marley deep studies/geant/par10/withtime/sodiumrecoil/naive_marley_output*.txt')\n",
    "arrays01 = [np.loadtxt(f01, skiprows=0) for f01 in fnames01]\n",
    "partxt_Narecoil = np.concatenate(arrays01)\n",
    "\n",
    "#load Icc I recoils\n",
    "fnames02 = glob.glob('D:/marley deep studies/geant/par10/withtime/iodinerecoil/naive_marley_output*.txt')\n",
    "arrays02 = [np.loadtxt(f02, skiprows=0) for f02 in fnames02]\n",
    "partxt_Irecoil = np.concatenate(arrays02)"
   ]
  },
  {
   "cell_type": "code",
   "execution_count": 4,
   "metadata": {},
   "outputs": [],
   "source": [
    "newpar=Quench(partxt0,partxt_Narecoil,partxt_Irecoil)\n",
    "partxt0_cut=cut(newpar[0],0.9,9.9)\n",
    "fujitatxt0_cut=cut(fujitatxt0,0.9,9.9)\n",
    "fujita2txt0_cut=cut(fujita2txt0,0.9,9.9)\n",
    "muon_cut=cut(final_array,0.9,9.9)"
   ]
  },
  {
   "cell_type": "code",
   "execution_count": 6,
   "metadata": {},
   "outputs": [],
   "source": [
    "np.savez('newpar', E=partxt0_cut[0], M=partxt0_cut[1], A=partxt0_cut[2], V=partxt0_cut[3], Note='threshold 900keV, 9.9 MeV integral energy cut, 55 MeV saturation cut. Added Quenched Na and I recoils. B(GT) from M. Palarczyk, et al. PhysRevC.59.500, Quenching model from Lindhard model from https://arxiv.org/pdf/1907.04963.pdf, Quenching data from Joo')\n",
    "np.savez('newfujita', E=fujitatxt0_cut[0], M=fujitatxt0_cut[1], A=fujitatxt0_cut[2], V=fujitatxt0_cut[3], Note='NaCC without 23Mg added in G4, react file source Fujita')\n",
    "np.savez('newfujita2', E=fujita2txt0_cut[0], M=fujita2txt0_cut[1], A=fujita2txt0_cut[2], V=fujita2txt0_cut[3], Note='NaCC WITH 23Mg added in G4, react file source Fujita')\n",
    "np.savez('newmuon150',E=muon_cut[0], M=muon_cut[1], A=muon_cut[2], V=muon_cut[3], Note='Muon sim with 150m by 150 by 8 overburden')"
   ]
  },
  {
   "cell_type": "code",
   "execution_count": null,
   "metadata": {},
   "outputs": [],
   "source": []
  }
 ],
 "metadata": {
  "kernelspec": {
   "display_name": "Python 3",
   "language": "python",
   "name": "python3"
  },
  "language_info": {
   "codemirror_mode": {
    "name": "ipython",
    "version": 3
   },
   "file_extension": ".py",
   "mimetype": "text/x-python",
   "name": "python",
   "nbconvert_exporter": "python",
   "pygments_lexer": "ipython3",
   "version": "3.6.10"
  }
 },
 "nbformat": 4,
 "nbformat_minor": 4
}
